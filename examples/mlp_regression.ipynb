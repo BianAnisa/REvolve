{
 "cells": [
  {
   "cell_type": "code",
   "execution_count": 1,
   "outputs": [],
   "source": [
    "import tensorflow as tf\n",
    "import tensorflow_addons as tfa\n",
    "from sklearn.preprocessing import StandardScaler\n",
    "from sklearn.model_selection import train_test_split\n",
    "import logging, os\n",
    "logging.disable(logging.WARNING)\n",
    "os.environ[\"TF_CPP_MIN_LOG_LEVEL\"] = \"3\"\n",
    "import warnings\n",
    "warnings.filterwarnings('ignore')\n",
    "\n",
    "\n",
    "from revolve.grids import MLPParameterGrid\n",
    "from revolve.architectures import MLPStrategy\n",
    "from revolve.algorithms import EvolutionaryAlgorithmElitism\n",
    "from revolve.operators import (\n",
    "    Operations,\n",
    "    random_mutation,\n",
    "    uniform_crossover,\n",
    "    roulette_wheel_selection,\n",
    ")"
   ],
   "metadata": {
    "collapsed": false,
    "pycharm": {
     "name": "#%%\n"
    }
   }
  },
  {
   "cell_type": "code",
   "execution_count": 2,
   "outputs": [],
   "source": [
    "train, test = tf.keras.datasets.boston_housing.load_data(\n",
    "    path=\"boston_housing.npz\", test_split=0.2, seed=113\n",
    ")\n",
    "x_train_full, y_train_full = train\n",
    "x_test, y_test = test"
   ],
   "metadata": {
    "collapsed": false,
    "pycharm": {
     "name": "#%%\n"
    }
   }
  },
  {
   "cell_type": "code",
   "execution_count": 3,
   "outputs": [],
   "source": [
    "x_train, x_valid, y_train, y_valid = train_test_split(x_train_full, y_train_full, test_size=0.1, random_state=42)"
   ],
   "metadata": {
    "collapsed": false,
    "pycharm": {
     "name": "#%%\n"
    }
   }
  },
  {
   "cell_type": "code",
   "execution_count": 4,
   "outputs": [],
   "source": [
    "scaler = StandardScaler()\n",
    "x_train = scaler.fit_transform(x_train)\n",
    "x_valid = scaler.transform(x_valid)\n",
    "x_test = scaler.transform(x_test)"
   ],
   "metadata": {
    "collapsed": false,
    "pycharm": {
     "name": "#%%\n"
    }
   }
  },
  {
   "cell_type": "code",
   "execution_count": 5,
   "outputs": [],
   "source": [
    "operations = Operations()\n",
    "operations.register(roulette_wheel_selection)\n",
    "operations.register(uniform_crossover, probability=0.5)\n",
    "operations.register(random_mutation, probability=0.1)"
   ],
   "metadata": {
    "collapsed": false,
    "pycharm": {
     "name": "#%%\n"
    }
   }
  },
  {
   "cell_type": "code",
   "execution_count": 6,
   "outputs": [
    {
     "data": {
      "text/plain": "['selection', 'crossover', 'mutation']"
     },
     "execution_count": 6,
     "metadata": {},
     "output_type": "execute_result"
    }
   ],
   "source": [
    "operations.get_operations()"
   ],
   "metadata": {
    "collapsed": false,
    "pycharm": {
     "name": "#%%\n"
    }
   }
  },
  {
   "cell_type": "code",
   "execution_count": 7,
   "outputs": [],
   "source": [
    "mlp_params = MLPParameterGrid(\n",
    "    input_shape=(x_train.shape[1],),\n",
    "    regression_target=1,\n",
    "    regression_activation= \"relu\",\n",
    "    hidden_neurons = [0, 16, 32, 64, 128, 258, 512, 1024, 2048],\n",
    "    activation=['relu', 'swish'],\n",
    "    dropout=[0.1, 0.2, 0.3, 0.4, 0.5],\n",
    "    batch_size=[16, 32, 64],\n",
    "    optimizer=['adam', 'sgd', 'rmsprop'],\n",
    "    learning_rate=[7.5e-3, 5.0e-3, 2.5e-3, 1.0e-4, 7.5e-4, 5e-4, 2.5e-4],\n",
    "    l1=[1e-5, 1e-6],\n",
    "    l2=[1e-5, 1e-6],\n",
    ")"
   ],
   "metadata": {
    "collapsed": false,
    "pycharm": {
     "name": "#%%\n"
    }
   }
  },
  {
   "cell_type": "code",
   "execution_count": 8,
   "outputs": [
    {
     "data": {
      "text/plain": "{'input_shape': (13,), 'regression_target': 1, 'regression_activation': 'relu'}"
     },
     "execution_count": 8,
     "metadata": {},
     "output_type": "execute_result"
    }
   ],
   "source": [
    "mlp_params.static_parameters"
   ],
   "metadata": {
    "collapsed": false,
    "pycharm": {
     "name": "#%%\n"
    }
   }
  },
  {
   "cell_type": "code",
   "execution_count": 9,
   "outputs": [
    {
     "data": {
      "text/plain": "{'hidden_neurons': [0, 16, 32, 64, 128, 258, 512, 1024, 2048],\n 'activation': ['relu', 'swish'],\n 'l1': [1e-05, 1e-06],\n 'l2': [1e-05, 1e-06],\n 'dropout': [0.1, 0.2, 0.3, 0.4, 0.5],\n 'batch_size': [16, 32, 64],\n 'optimizer': ['adam', 'sgd', 'rmsprop'],\n 'learning_rate': [0.0075, 0.005, 0.0025, 0.0001, 0.00075, 0.0005, 0.00025]}"
     },
     "execution_count": 9,
     "metadata": {},
     "output_type": "execute_result"
    }
   ],
   "source": [
    "mlp_params.learnable_parameters"
   ],
   "metadata": {
    "collapsed": false,
    "pycharm": {
     "name": "#%%\n"
    }
   }
  },
  {
   "cell_type": "code",
   "execution_count": 10,
   "outputs": [],
   "source": [
    "callback = tf.keras.callbacks.EarlyStopping(monitor=\"val_loss\", mode=\"min\", patience=2)\n",
    "\n",
    "mlp = MLPStrategy(\n",
    "    max_fc = 3,\n",
    "    squeeze_fc=False,\n",
    "    epochs=50,\n",
    "    callback=callback,\n",
    "    loss='mean_squared_error',\n",
    "    metric = tfa.metrics.RSquare(),\n",
    "    parameters = mlp_params\n",
    ")"
   ],
   "metadata": {
    "collapsed": false,
    "pycharm": {
     "name": "#%%\n"
    }
   }
  },
  {
   "cell_type": "code",
   "execution_count": 11,
   "outputs": [],
   "source": [
    "train_data = tf.data.Dataset.from_tensor_slices((x_train, y_train))\n",
    "valid_data = tf.data.Dataset.from_tensor_slices((x_valid, y_valid))\n",
    "test_data = tf.data.Dataset.from_tensor_slices((x_test, y_test))\n",
    "\n",
    "data = (train_data, valid_data, test_data)"
   ],
   "metadata": {
    "collapsed": false,
    "pycharm": {
     "name": "#%%\n"
    }
   }
  },
  {
   "cell_type": "code",
   "execution_count": 12,
   "outputs": [],
   "source": [
    "ea = EvolutionaryAlgorithmElitism(\n",
    "    strategy=mlp,\n",
    "    pop_size=50,\n",
    "    elitism_size=1,\n",
    "    operations=operations,\n",
    ")"
   ],
   "metadata": {
    "collapsed": false,
    "pycharm": {
     "name": "#%%\n"
    }
   }
  },
  {
   "cell_type": "code",
   "execution_count": 13,
   "outputs": [
    {
     "data": {
      "text/plain": "Generations:   0%|          | 0/20 [00:00<?, ?it/s]",
      "application/vnd.jupyter.widget-view+json": {
       "version_major": 2,
       "version_minor": 0,
       "model_id": "3825282e996c4a86960390a659c0b249"
      }
     },
     "metadata": {},
     "output_type": "display_data"
    },
    {
     "data": {
      "text/plain": "Evaluating:   0%|          | 0/50 [00:00<?, ?it/s]",
      "application/vnd.jupyter.widget-view+json": {
       "version_major": 2,
       "version_minor": 0,
       "model_id": "8ec3be57cde24cc8a9aa8d45be6d78c0"
      }
     },
     "metadata": {},
     "output_type": "display_data"
    },
    {
     "name": "stdout",
     "output_type": "stream",
     "text": [
      "Generation 0,                 Best error: 20.854602813720703,                 Best R2 0.7496681213378906\n"
     ]
    },
    {
     "data": {
      "text/plain": "Evaluating:   0%|          | 0/50 [00:00<?, ?it/s]",
      "application/vnd.jupyter.widget-view+json": {
       "version_major": 2,
       "version_minor": 0,
       "model_id": "7ebb34e816594fa0a85ed62a6a76e97d"
      }
     },
     "metadata": {},
     "output_type": "display_data"
    },
    {
     "name": "stdout",
     "output_type": "stream",
     "text": [
      "Generation 1,                 Best error: 18.87354278564453,                 Best R2 0.7735549211502075\n"
     ]
    },
    {
     "data": {
      "text/plain": "Evaluating:   0%|          | 0/50 [00:00<?, ?it/s]",
      "application/vnd.jupyter.widget-view+json": {
       "version_major": 2,
       "version_minor": 0,
       "model_id": "1b1355b497b345588bbb785093219376"
      }
     },
     "metadata": {},
     "output_type": "display_data"
    },
    {
     "name": "stdout",
     "output_type": "stream",
     "text": [
      "Generation 2,                 Best error: 17.740966796875,                 Best R2 0.7869622111320496\n"
     ]
    },
    {
     "data": {
      "text/plain": "Evaluating:   0%|          | 0/50 [00:00<?, ?it/s]",
      "application/vnd.jupyter.widget-view+json": {
       "version_major": 2,
       "version_minor": 0,
       "model_id": "bf160501b00b4f1fb670471015269935"
      }
     },
     "metadata": {},
     "output_type": "display_data"
    },
    {
     "name": "stdout",
     "output_type": "stream",
     "text": [
      "Generation 3,                 Best error: 17.740964889526367,                 Best R2 0.78696209192276\n"
     ]
    },
    {
     "data": {
      "text/plain": "Evaluating:   0%|          | 0/50 [00:00<?, ?it/s]",
      "application/vnd.jupyter.widget-view+json": {
       "version_major": 2,
       "version_minor": 0,
       "model_id": "75851b6b250441b9926f904cd92f2a6b"
      }
     },
     "metadata": {},
     "output_type": "display_data"
    },
    {
     "name": "stdout",
     "output_type": "stream",
     "text": [
      "Generation 4,                 Best error: 17.740964889526367,                 Best R2 0.78696209192276\n"
     ]
    },
    {
     "data": {
      "text/plain": "Evaluating:   0%|          | 0/50 [00:00<?, ?it/s]",
      "application/vnd.jupyter.widget-view+json": {
       "version_major": 2,
       "version_minor": 0,
       "model_id": "f9c123aa0a59450780f8cc934002395b"
      }
     },
     "metadata": {},
     "output_type": "display_data"
    },
    {
     "name": "stdout",
     "output_type": "stream",
     "text": [
      "Generation 5,                 Best error: 17.740966796875,                 Best R2 0.7869623303413391\n"
     ]
    },
    {
     "data": {
      "text/plain": "Evaluating:   0%|          | 0/50 [00:00<?, ?it/s]",
      "application/vnd.jupyter.widget-view+json": {
       "version_major": 2,
       "version_minor": 0,
       "model_id": "b9219b83303f4a5c8e8692fe9d4dcc3f"
      }
     },
     "metadata": {},
     "output_type": "display_data"
    },
    {
     "name": "stdout",
     "output_type": "stream",
     "text": [
      "Generation 6,                 Best error: 17.740966796875,                 Best R2 0.7869623303413391\n"
     ]
    },
    {
     "data": {
      "text/plain": "Evaluating:   0%|          | 0/50 [00:00<?, ?it/s]",
      "application/vnd.jupyter.widget-view+json": {
       "version_major": 2,
       "version_minor": 0,
       "model_id": "5726b8ef1c6a4b3b9becc9833c859520"
      }
     },
     "metadata": {},
     "output_type": "display_data"
    },
    {
     "name": "stdout",
     "output_type": "stream",
     "text": [
      "Generation 7,                 Best error: 17.740964889526367,                 Best R2 0.78696209192276\n"
     ]
    },
    {
     "data": {
      "text/plain": "Evaluating:   0%|          | 0/50 [00:00<?, ?it/s]",
      "application/vnd.jupyter.widget-view+json": {
       "version_major": 2,
       "version_minor": 0,
       "model_id": "e48cb6b5f6ff4fca81475dcd334b9aad"
      }
     },
     "metadata": {},
     "output_type": "display_data"
    },
    {
     "name": "stdout",
     "output_type": "stream",
     "text": [
      "Generation 8,                 Best error: 17.740966796875,                 Best R2 0.7869622111320496\n"
     ]
    },
    {
     "data": {
      "text/plain": "Evaluating:   0%|          | 0/50 [00:00<?, ?it/s]",
      "application/vnd.jupyter.widget-view+json": {
       "version_major": 2,
       "version_minor": 0,
       "model_id": "b0a16e1aaf194eb29b567b0eb82a0aea"
      }
     },
     "metadata": {},
     "output_type": "display_data"
    },
    {
     "name": "stdout",
     "output_type": "stream",
     "text": [
      "Generation 9,                 Best error: 17.740966796875,                 Best R2 0.7869623303413391\n"
     ]
    },
    {
     "data": {
      "text/plain": "Evaluating:   0%|          | 0/50 [00:00<?, ?it/s]",
      "application/vnd.jupyter.widget-view+json": {
       "version_major": 2,
       "version_minor": 0,
       "model_id": "b32b33885efc4eaa88cf1dab7eff9c5c"
      }
     },
     "metadata": {},
     "output_type": "display_data"
    },
    {
     "name": "stdout",
     "output_type": "stream",
     "text": [
      "Generation 10,                 Best error: 16.035694122314453,                 Best R2 0.8174399137496948\n"
     ]
    },
    {
     "data": {
      "text/plain": "Evaluating:   0%|          | 0/50 [00:00<?, ?it/s]",
      "application/vnd.jupyter.widget-view+json": {
       "version_major": 2,
       "version_minor": 0,
       "model_id": "5db52093f1a542aa944510082507af1d"
      }
     },
     "metadata": {},
     "output_type": "display_data"
    },
    {
     "name": "stdout",
     "output_type": "stream",
     "text": [
      "Generation 11,                 Best error: 16.03569793701172,                 Best R2 0.8174400329589844\n"
     ]
    },
    {
     "data": {
      "text/plain": "Evaluating:   0%|          | 0/50 [00:00<?, ?it/s]",
      "application/vnd.jupyter.widget-view+json": {
       "version_major": 2,
       "version_minor": 0,
       "model_id": "07f3ab9eab65448d96ab4b6cb01b0539"
      }
     },
     "metadata": {},
     "output_type": "display_data"
    },
    {
     "name": "stdout",
     "output_type": "stream",
     "text": [
      "Generation 12,                 Best error: 16.035694122314453,                 Best R2 0.8174399733543396\n"
     ]
    },
    {
     "data": {
      "text/plain": "Evaluating:   0%|          | 0/50 [00:00<?, ?it/s]",
      "application/vnd.jupyter.widget-view+json": {
       "version_major": 2,
       "version_minor": 0,
       "model_id": "915199bb3d454fa8a9963a24efffdf08"
      }
     },
     "metadata": {},
     "output_type": "display_data"
    },
    {
     "name": "stdout",
     "output_type": "stream",
     "text": [
      "Generation 13,                 Best error: 16.03569793701172,                 Best R2 0.8174400329589844\n"
     ]
    },
    {
     "data": {
      "text/plain": "Evaluating:   0%|          | 0/50 [00:00<?, ?it/s]",
      "application/vnd.jupyter.widget-view+json": {
       "version_major": 2,
       "version_minor": 0,
       "model_id": "d979cd07b8334dbd92ed2f382dc2d97b"
      }
     },
     "metadata": {},
     "output_type": "display_data"
    },
    {
     "name": "stdout",
     "output_type": "stream",
     "text": [
      "Generation 14,                 Best error: 16.03569793701172,                 Best R2 0.8174400329589844\n"
     ]
    },
    {
     "data": {
      "text/plain": "Evaluating:   0%|          | 0/50 [00:00<?, ?it/s]",
      "application/vnd.jupyter.widget-view+json": {
       "version_major": 2,
       "version_minor": 0,
       "model_id": "801e7f49e6f5442b95b516d409db1689"
      }
     },
     "metadata": {},
     "output_type": "display_data"
    },
    {
     "name": "stdout",
     "output_type": "stream",
     "text": [
      "Generation 15,                 Best error: 16.035694122314453,                 Best R2 0.8174399137496948\n"
     ]
    },
    {
     "data": {
      "text/plain": "Evaluating:   0%|          | 0/50 [00:00<?, ?it/s]",
      "application/vnd.jupyter.widget-view+json": {
       "version_major": 2,
       "version_minor": 0,
       "model_id": "83b4b462c8f549e3b8235a74bad5c99f"
      }
     },
     "metadata": {},
     "output_type": "display_data"
    },
    {
     "name": "stdout",
     "output_type": "stream",
     "text": [
      "Generation 16,                 Best error: 16.035694122314453,                 Best R2 0.8174399733543396\n"
     ]
    },
    {
     "data": {
      "text/plain": "Evaluating:   0%|          | 0/50 [00:00<?, ?it/s]",
      "application/vnd.jupyter.widget-view+json": {
       "version_major": 2,
       "version_minor": 0,
       "model_id": "12a0ba3498ac4e28a9d43290072f7389"
      }
     },
     "metadata": {},
     "output_type": "display_data"
    },
    {
     "name": "stdout",
     "output_type": "stream",
     "text": [
      "Generation 17,                 Best error: 16.035694122314453,                 Best R2 0.8174399733543396\n"
     ]
    },
    {
     "data": {
      "text/plain": "Evaluating:   0%|          | 0/50 [00:00<?, ?it/s]",
      "application/vnd.jupyter.widget-view+json": {
       "version_major": 2,
       "version_minor": 0,
       "model_id": "b8cbfa69b0e14cf7a173327937b86d75"
      }
     },
     "metadata": {},
     "output_type": "display_data"
    },
    {
     "name": "stdout",
     "output_type": "stream",
     "text": [
      "Generation 18,                 Best error: 16.035694122314453,                 Best R2 0.8174399137496948\n"
     ]
    },
    {
     "data": {
      "text/plain": "Evaluating:   0%|          | 0/50 [00:00<?, ?it/s]",
      "application/vnd.jupyter.widget-view+json": {
       "version_major": 2,
       "version_minor": 0,
       "model_id": "6498dbd17872458a92f5e02cc6e35fe2"
      }
     },
     "metadata": {},
     "output_type": "display_data"
    },
    {
     "name": "stdout",
     "output_type": "stream",
     "text": [
      "Generation 19,                 Best error: 16.035694122314453,                 Best R2 0.8174399137496948\n"
     ]
    }
   ],
   "source": [
    "best_chromosome = ea.fit(\n",
    "    data,\n",
    "    generations=20,\n",
    ")"
   ],
   "metadata": {
    "collapsed": false,
    "pycharm": {
     "name": "#%%\n"
    }
   }
  },
  {
   "cell_type": "code",
   "execution_count": 14,
   "outputs": [],
   "source": [
    "df = ea.results_df()"
   ],
   "metadata": {
    "collapsed": false,
    "pycharm": {
     "name": "#%%\n"
    }
   }
  },
  {
   "cell_type": "code",
   "execution_count": 15,
   "outputs": [
    {
     "data": {
      "text/plain": "                                   learnt_parameters  \\\n0  {'fc_0': {'hidden_neurons': 258, 'activation':...   \n1  {'fc_0': {'hidden_neurons': 32, 'activation': ...   \n2  {'fc_0': {'hidden_neurons': 2048, 'activation'...   \n3  {'fc_0': {'hidden_neurons': 1024, 'activation'...   \n4  {'fc_0': {'hidden_neurons': 64, 'activation': ...   \n\n                                   static_parameters       loss    metric  \\\n0  {'input_shape': (13,), 'regression_target': 1,...  26.254490  0.684805   \n1  {'input_shape': (13,), 'regression_target': 1,...  31.026688  0.627391   \n2  {'input_shape': (13,), 'regression_target': 1,...  90.392265 -0.079538   \n3  {'input_shape': (13,), 'regression_target': 1,...  64.324883  0.227290   \n4  {'input_shape': (13,), 'regression_target': 1,...  25.943596  0.688403   \n\n   generation  \n0           0  \n1           0  \n2           0  \n3           0  \n4           0  ",
      "text/html": "<div>\n<style scoped>\n    .dataframe tbody tr th:only-of-type {\n        vertical-align: middle;\n    }\n\n    .dataframe tbody tr th {\n        vertical-align: top;\n    }\n\n    .dataframe thead th {\n        text-align: right;\n    }\n</style>\n<table border=\"1\" class=\"dataframe\">\n  <thead>\n    <tr style=\"text-align: right;\">\n      <th></th>\n      <th>learnt_parameters</th>\n      <th>static_parameters</th>\n      <th>loss</th>\n      <th>metric</th>\n      <th>generation</th>\n    </tr>\n  </thead>\n  <tbody>\n    <tr>\n      <th>0</th>\n      <td>{'fc_0': {'hidden_neurons': 258, 'activation':...</td>\n      <td>{'input_shape': (13,), 'regression_target': 1,...</td>\n      <td>26.254490</td>\n      <td>0.684805</td>\n      <td>0</td>\n    </tr>\n    <tr>\n      <th>1</th>\n      <td>{'fc_0': {'hidden_neurons': 32, 'activation': ...</td>\n      <td>{'input_shape': (13,), 'regression_target': 1,...</td>\n      <td>31.026688</td>\n      <td>0.627391</td>\n      <td>0</td>\n    </tr>\n    <tr>\n      <th>2</th>\n      <td>{'fc_0': {'hidden_neurons': 2048, 'activation'...</td>\n      <td>{'input_shape': (13,), 'regression_target': 1,...</td>\n      <td>90.392265</td>\n      <td>-0.079538</td>\n      <td>0</td>\n    </tr>\n    <tr>\n      <th>3</th>\n      <td>{'fc_0': {'hidden_neurons': 1024, 'activation'...</td>\n      <td>{'input_shape': (13,), 'regression_target': 1,...</td>\n      <td>64.324883</td>\n      <td>0.227290</td>\n      <td>0</td>\n    </tr>\n    <tr>\n      <th>4</th>\n      <td>{'fc_0': {'hidden_neurons': 64, 'activation': ...</td>\n      <td>{'input_shape': (13,), 'regression_target': 1,...</td>\n      <td>25.943596</td>\n      <td>0.688403</td>\n      <td>0</td>\n    </tr>\n  </tbody>\n</table>\n</div>"
     },
     "execution_count": 15,
     "metadata": {},
     "output_type": "execute_result"
    }
   ],
   "source": [
    "df.head()"
   ],
   "metadata": {
    "collapsed": false,
    "pycharm": {
     "name": "#%%\n"
    }
   }
  },
  {
   "cell_type": "code",
   "execution_count": 16,
   "outputs": [
    {
     "name": "stdout",
     "output_type": "stream",
     "text": [
      "Model: \"model\"\n",
      "_________________________________________________________________\n",
      " Layer (type)                Output Shape              Param #   \n",
      "=================================================================\n",
      " input_1 (InputLayer)        [(None, 13)]              0         \n",
      "                                                                 \n",
      " dense (Dense)               (None, 2048)              28672     \n",
      "                                                                 \n",
      " dropout (Dropout)           (None, 2048)              0         \n",
      "                                                                 \n",
      " dense_1 (Dense)             (None, 128)               262272    \n",
      "                                                                 \n",
      " dropout_1 (Dropout)         (None, 128)               0         \n",
      "                                                                 \n",
      " dense_2 (Dense)             (None, 16)                2064      \n",
      "                                                                 \n",
      " dropout_2 (Dropout)         (None, 16)                0         \n",
      "                                                                 \n",
      " dense_3 (Dense)             (None, 1)                 17        \n",
      "                                                                 \n",
      "=================================================================\n",
      "Total params: 293,025\n",
      "Trainable params: 293,025\n",
      "Non-trainable params: 0\n",
      "_________________________________________________________________\n"
     ]
    }
   ],
   "source": [
    "model = best_chromosome.decode(mlp_params)\n",
    "model.summary()"
   ],
   "metadata": {
    "collapsed": false,
    "pycharm": {
     "name": "#%%\n"
    }
   }
  },
  {
   "cell_type": "code",
   "execution_count": 17,
   "outputs": [],
   "source": [
    "best_chromosome_row = df[df.loss == df.loss.min()]"
   ],
   "metadata": {
    "collapsed": false,
    "pycharm": {
     "name": "#%%\n"
    }
   }
  },
  {
   "cell_type": "code",
   "execution_count": 18,
   "outputs": [
    {
     "data": {
      "text/plain": "{531: {'fc_0': {'hidden_neurons': 512,\n   'activation': 'swish',\n   'dropout': 0.5,\n   'l1': 1e-06,\n   'l2': 1e-05},\n  'fc_1': {'hidden_neurons': 1024,\n   'activation': 'swish',\n   'dropout': 0.3,\n   'l1': 1e-05,\n   'l2': 1e-06},\n  'fc_2': {'hidden_neurons': 16,\n   'activation': 'relu',\n   'dropout': 0.4,\n   'l1': 1e-05,\n   'l2': 1e-05},\n  'batch_size_3': {'batch_size': 32},\n  'optimizer_4': {'optimizer': 'sgd'},\n  'learning_rate_5': {'learning_rate': 0.0005}},\n 600: {'fc_0': {'hidden_neurons': 512,\n   'activation': 'swish',\n   'dropout': 0.5,\n   'l1': 1e-06,\n   'l2': 1e-05},\n  'fc_1': {'hidden_neurons': 1024,\n   'activation': 'swish',\n   'dropout': 0.3,\n   'l1': 1e-05,\n   'l2': 1e-06},\n  'fc_2': {'hidden_neurons': 16,\n   'activation': 'relu',\n   'dropout': 0.4,\n   'l1': 1e-05,\n   'l2': 1e-05},\n  'batch_size_3': {'batch_size': 32},\n  'optimizer_4': {'optimizer': 'sgd'},\n  'learning_rate_5': {'learning_rate': 0.0005}},\n 750: {'fc_0': {'hidden_neurons': 512,\n   'activation': 'swish',\n   'dropout': 0.5,\n   'l1': 1e-06,\n   'l2': 1e-05},\n  'fc_1': {'hidden_neurons': 1024,\n   'activation': 'swish',\n   'dropout': 0.3,\n   'l1': 1e-05,\n   'l2': 1e-06},\n  'fc_2': {'hidden_neurons': 16,\n   'activation': 'relu',\n   'dropout': 0.4,\n   'l1': 1e-05,\n   'l2': 1e-05},\n  'batch_size_3': {'batch_size': 32},\n  'optimizer_4': {'optimizer': 'sgd'},\n  'learning_rate_5': {'learning_rate': 0.0005}},\n 800: {'fc_0': {'hidden_neurons': 512,\n   'activation': 'swish',\n   'dropout': 0.5,\n   'l1': 1e-06,\n   'l2': 1e-05},\n  'fc_1': {'hidden_neurons': 1024,\n   'activation': 'swish',\n   'dropout': 0.3,\n   'l1': 1e-05,\n   'l2': 1e-06},\n  'fc_2': {'hidden_neurons': 16,\n   'activation': 'relu',\n   'dropout': 0.4,\n   'l1': 1e-05,\n   'l2': 1e-05},\n  'batch_size_3': {'batch_size': 32},\n  'optimizer_4': {'optimizer': 'sgd'},\n  'learning_rate_5': {'learning_rate': 0.0005}},\n 850: {'fc_0': {'hidden_neurons': 512,\n   'activation': 'swish',\n   'dropout': 0.5,\n   'l1': 1e-06,\n   'l2': 1e-05},\n  'fc_1': {'hidden_neurons': 1024,\n   'activation': 'swish',\n   'dropout': 0.3,\n   'l1': 1e-05,\n   'l2': 1e-06},\n  'fc_2': {'hidden_neurons': 16,\n   'activation': 'relu',\n   'dropout': 0.4,\n   'l1': 1e-05,\n   'l2': 1e-05},\n  'batch_size_3': {'batch_size': 32},\n  'optimizer_4': {'optimizer': 'sgd'},\n  'learning_rate_5': {'learning_rate': 0.0005}},\n 900: {'fc_0': {'hidden_neurons': 512,\n   'activation': 'swish',\n   'dropout': 0.5,\n   'l1': 1e-06,\n   'l2': 1e-05},\n  'fc_1': {'hidden_neurons': 1024,\n   'activation': 'swish',\n   'dropout': 0.3,\n   'l1': 1e-05,\n   'l2': 1e-06},\n  'fc_2': {'hidden_neurons': 16,\n   'activation': 'relu',\n   'dropout': 0.4,\n   'l1': 1e-05,\n   'l2': 1e-05},\n  'batch_size_3': {'batch_size': 32},\n  'optimizer_4': {'optimizer': 'sgd'},\n  'learning_rate_5': {'learning_rate': 0.0005}},\n 950: {'fc_0': {'hidden_neurons': 512,\n   'activation': 'swish',\n   'dropout': 0.5,\n   'l1': 1e-06,\n   'l2': 1e-05},\n  'fc_1': {'hidden_neurons': 1024,\n   'activation': 'swish',\n   'dropout': 0.3,\n   'l1': 1e-05,\n   'l2': 1e-06},\n  'fc_2': {'hidden_neurons': 16,\n   'activation': 'relu',\n   'dropout': 0.4,\n   'l1': 1e-05,\n   'l2': 1e-05},\n  'batch_size_3': {'batch_size': 32},\n  'optimizer_4': {'optimizer': 'sgd'},\n  'learning_rate_5': {'learning_rate': 0.0005}}}"
     },
     "execution_count": 18,
     "metadata": {},
     "output_type": "execute_result"
    }
   ],
   "source": [
    "dict(best_chromosome_row.learnt_parameters)"
   ],
   "metadata": {
    "collapsed": false,
    "pycharm": {
     "name": "#%%\n"
    }
   }
  },
  {
   "cell_type": "code",
   "execution_count": 19,
   "outputs": [
    {
     "data": {
      "text/plain": "{531: {'input_shape': (13,),\n  'regression_target': 1,\n  'regression_activation': 'relu'},\n 600: {'input_shape': (13,),\n  'regression_target': 1,\n  'regression_activation': 'relu'},\n 750: {'input_shape': (13,),\n  'regression_target': 1,\n  'regression_activation': 'relu'},\n 800: {'input_shape': (13,),\n  'regression_target': 1,\n  'regression_activation': 'relu'},\n 850: {'input_shape': (13,),\n  'regression_target': 1,\n  'regression_activation': 'relu'},\n 900: {'input_shape': (13,),\n  'regression_target': 1,\n  'regression_activation': 'relu'},\n 950: {'input_shape': (13,),\n  'regression_target': 1,\n  'regression_activation': 'relu'}}"
     },
     "execution_count": 19,
     "metadata": {},
     "output_type": "execute_result"
    }
   ],
   "source": [
    "dict(best_chromosome_row.static_parameters)"
   ],
   "metadata": {
    "collapsed": false,
    "pycharm": {
     "name": "#%%\n"
    }
   }
  },
  {
   "cell_type": "code",
   "execution_count": 20,
   "outputs": [],
   "source": [
    "elite_models = ea.elite_models"
   ],
   "metadata": {
    "collapsed": false,
    "pycharm": {
     "name": "#%%\n"
    }
   }
  },
  {
   "cell_type": "code",
   "execution_count": 21,
   "outputs": [
    {
     "data": {
      "text/plain": "[<keras.engine.functional.Functional at 0x2e2e16d30>]"
     },
     "execution_count": 21,
     "metadata": {},
     "output_type": "execute_result"
    }
   ],
   "source": [
    "elite_models"
   ],
   "metadata": {
    "collapsed": false,
    "pycharm": {
     "name": "#%%\n"
    }
   }
  },
  {
   "cell_type": "code",
   "execution_count": 21,
   "outputs": [],
   "source": [],
   "metadata": {
    "collapsed": false,
    "pycharm": {
     "name": "#%%\n"
    }
   }
  }
 ],
 "metadata": {
  "kernelspec": {
   "display_name": "Python 3",
   "language": "python",
   "name": "python3"
  },
  "language_info": {
   "codemirror_mode": {
    "name": "ipython",
    "version": 2
   },
   "file_extension": ".py",
   "mimetype": "text/x-python",
   "name": "python",
   "nbconvert_exporter": "python",
   "pygments_lexer": "ipython2",
   "version": "2.7.6"
  }
 },
 "nbformat": 4,
 "nbformat_minor": 0
}