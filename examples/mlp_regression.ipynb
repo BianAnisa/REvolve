{
 "cells": [
  {
   "cell_type": "code",
   "execution_count": 1,
   "outputs": [],
   "source": [
    "import tensorflow as tf\n",
    "import tensorflow_addons as tfa\n",
    "from sklearn.preprocessing import StandardScaler\n",
    "from sklearn.model_selection import train_test_split\n",
    "import logging, os\n",
    "logging.disable(logging.WARNING)\n",
    "os.environ[\"TF_CPP_MIN_LOG_LEVEL\"] = \"3\"\n",
    "import warnings\n",
    "warnings.filterwarnings('ignore')\n",
    "\n",
    "from revolve.operators import (\n",
    "    Operations,\n",
    "    random_mutation,\n",
    "    uniform_crossover,\n",
    "    roulette_wheel_selection,\n",
    ")"
   ],
   "metadata": {
    "collapsed": false,
    "pycharm": {
     "name": "#%%\n"
    }
   }
  },
  {
   "cell_type": "code",
   "execution_count": 2,
   "outputs": [],
   "source": [
    "train, test = tf.keras.datasets.boston_housing.load_data(\n",
    "    path=\"boston_housing.npz\", test_split=0.2, seed=113\n",
    ")\n",
    "x_train_full, y_train_full = train\n",
    "x_test, y_test = test"
   ],
   "metadata": {
    "collapsed": false,
    "pycharm": {
     "name": "#%%\n"
    }
   }
  },
  {
   "cell_type": "code",
   "execution_count": 3,
   "outputs": [],
   "source": [
    "x_train, x_valid, y_train, y_valid = train_test_split(x_train_full, y_train_full, test_size=0.1, random_state=42)"
   ],
   "metadata": {
    "collapsed": false,
    "pycharm": {
     "name": "#%%\n"
    }
   }
  },
  {
   "cell_type": "code",
   "execution_count": 4,
   "outputs": [],
   "source": [
    "scaler = StandardScaler()\n",
    "x_train = scaler.fit_transform(x_train)\n",
    "x_valid = scaler.transform(x_valid)\n",
    "x_test = scaler.transform(x_test)"
   ],
   "metadata": {
    "collapsed": false,
    "pycharm": {
     "name": "#%%\n"
    }
   }
  },
  {
   "cell_type": "code",
   "execution_count": 5,
   "outputs": [
    {
     "data": {
      "text/plain": "(102, 13)"
     },
     "execution_count": 5,
     "metadata": {},
     "output_type": "execute_result"
    }
   ],
   "source": [
    "x_test.shape"
   ],
   "metadata": {
    "collapsed": false,
    "pycharm": {
     "name": "#%%\n"
    }
   }
  },
  {
   "cell_type": "code",
   "execution_count": 6,
   "outputs": [
    {
     "data": {
      "text/plain": "(102,)"
     },
     "execution_count": 6,
     "metadata": {},
     "output_type": "execute_result"
    }
   ],
   "source": [
    "y_test.shape"
   ],
   "metadata": {
    "collapsed": false,
    "pycharm": {
     "name": "#%%\n"
    }
   }
  },
  {
   "cell_type": "code",
   "execution_count": 7,
   "outputs": [
    {
     "data": {
      "text/plain": "(41,)"
     },
     "execution_count": 7,
     "metadata": {},
     "output_type": "execute_result"
    }
   ],
   "source": [
    "y_valid.shape"
   ],
   "metadata": {
    "collapsed": false,
    "pycharm": {
     "name": "#%%\n"
    }
   }
  },
  {
   "cell_type": "code",
   "execution_count": 8,
   "outputs": [],
   "source": [
    "from revolve.grids import MLPParameterGrid\n",
    "from revolve.architectures import MLPStrategy\n",
    "from revolve.algorithms import EvolutionaryAlgorithmElitism"
   ],
   "metadata": {
    "collapsed": false,
    "pycharm": {
     "name": "#%%\n"
    }
   }
  },
  {
   "cell_type": "code",
   "execution_count": 9,
   "outputs": [],
   "source": [
    "operations = Operations()\n",
    "operations.register(roulette_wheel_selection)\n",
    "operations.register(uniform_crossover, probability=0.5)\n",
    "operations.register(random_mutation, probability=0.2)"
   ],
   "metadata": {
    "collapsed": false,
    "pycharm": {
     "name": "#%%\n"
    }
   }
  },
  {
   "cell_type": "code",
   "execution_count": 10,
   "outputs": [
    {
     "data": {
      "text/plain": "['selection', 'crossover', 'mutation']"
     },
     "execution_count": 10,
     "metadata": {},
     "output_type": "execute_result"
    }
   ],
   "source": [
    "operations.get_operations()"
   ],
   "metadata": {
    "collapsed": false,
    "pycharm": {
     "name": "#%%\n"
    }
   }
  },
  {
   "cell_type": "code",
   "execution_count": 11,
   "outputs": [],
   "source": [
    "import numpy as np\n",
    "params = MLPParameterGrid(\n",
    "    input_shape=(x_train.shape[1],),\n",
    "    regression_target=1,\n",
    "    regression_activation= \"relu\",\n",
    "    hidden_neurons = [0, 32, 64, 128, 256, 512, 1024, 2048],\n",
    "    activation='relu',\n",
    "    dropout=[0.1, 0.2, 0.3, 0.4, 0.5],\n",
    "    batch_size=[32, 64, 128],\n",
    "    optimizer='adam',\n",
    "    learning_rate=[1e-3, 2.5e-4, 5e-4, 7.5e-4, 1e-5],\n",
    "    l1=1e-5,\n",
    "    l2=1e-5,\n",
    ")"
   ],
   "metadata": {
    "collapsed": false,
    "pycharm": {
     "name": "#%%\n"
    }
   }
  },
  {
   "cell_type": "code",
   "execution_count": 12,
   "outputs": [
    {
     "data": {
      "text/plain": "{'input_shape': (13,),\n 'regression_target': 1,\n 'regression_activation': 'relu',\n 'activation': 'relu',\n 'l1': 1e-05,\n 'l2': 1e-05,\n 'optimizer': 'adam'}"
     },
     "execution_count": 12,
     "metadata": {},
     "output_type": "execute_result"
    }
   ],
   "source": [
    "params.static_parameters"
   ],
   "metadata": {
    "collapsed": false,
    "pycharm": {
     "name": "#%%\n"
    }
   }
  },
  {
   "cell_type": "code",
   "execution_count": 13,
   "outputs": [
    {
     "data": {
      "text/plain": "{'hidden_neurons': [0, 32, 64, 128, 256, 512, 1024, 2048],\n 'dropout': [0.1, 0.2, 0.3, 0.4, 0.5],\n 'batch_size': [32, 64, 128],\n 'learning_rate': [0.001, 0.00025, 0.0005, 0.00075, 1e-05]}"
     },
     "execution_count": 13,
     "metadata": {},
     "output_type": "execute_result"
    }
   ],
   "source": [
    "params.learnable_parameters"
   ],
   "metadata": {
    "collapsed": false,
    "pycharm": {
     "name": "#%%\n"
    }
   }
  },
  {
   "cell_type": "code",
   "execution_count": 14,
   "outputs": [],
   "source": [
    "callback = tf.keras.callbacks.EarlyStopping(monitor=\"val_loss\", mode=\"min\", patience=2)\n",
    "\n",
    "mlp = MLPStrategy(\n",
    "    max_fc = 3,\n",
    "    squeeze_fc=False,\n",
    "    epochs=50,\n",
    "    callback=callback,\n",
    "    loss='mean_squared_error',\n",
    "    metric = tfa.metrics.RSquare(),\n",
    "    parameters = params\n",
    ")"
   ],
   "metadata": {
    "collapsed": false,
    "pycharm": {
     "name": "#%%\n"
    }
   }
  },
  {
   "cell_type": "code",
   "execution_count": 15,
   "outputs": [],
   "source": [
    "train_data = tf.data.Dataset.from_tensor_slices((x_train, y_train))\n",
    "valid_data = tf.data.Dataset.from_tensor_slices((x_valid, y_valid))\n",
    "test_data = tf.data.Dataset.from_tensor_slices((x_test, y_test))\n",
    "\n",
    "data = (train_data, valid_data, test_data)"
   ],
   "metadata": {
    "collapsed": false,
    "pycharm": {
     "name": "#%%\n"
    }
   }
  },
  {
   "cell_type": "code",
   "execution_count": 16,
   "outputs": [],
   "source": [
    "ga = EvolutionaryAlgorithmElitism(\n",
    "    strategy=mlp,\n",
    "    pop_size=30,\n",
    "    elitism_size=2,\n",
    "    operations=operations,\n",
    ")"
   ],
   "metadata": {
    "collapsed": false,
    "pycharm": {
     "name": "#%%\n"
    }
   }
  },
  {
   "cell_type": "code",
   "execution_count": 17,
   "outputs": [
    {
     "data": {
      "text/plain": "  0%|          | 0/30 [00:00<?, ?it/s]",
      "application/vnd.jupyter.widget-view+json": {
       "version_major": 2,
       "version_minor": 0,
       "model_id": "223b3fe7a49f478abb6b868670b2b37d"
      }
     },
     "metadata": {},
     "output_type": "display_data"
    },
    {
     "name": "stdout",
     "output_type": "stream",
     "text": [
      "Generation 0,                 Best error: 22.87187385559082,                 Best R2 0.7263087034225464\n"
     ]
    },
    {
     "data": {
      "text/plain": "  0%|          | 0/30 [00:00<?, ?it/s]",
      "application/vnd.jupyter.widget-view+json": {
       "version_major": 2,
       "version_minor": 0,
       "model_id": "7b58224253ef4c7fbcbfe551e90da833"
      }
     },
     "metadata": {},
     "output_type": "display_data"
    },
    {
     "name": "stdout",
     "output_type": "stream",
     "text": [
      "Generation 1,                 Best error: 21.207847595214844,                 Best R2 0.7476918697357178\n"
     ]
    },
    {
     "data": {
      "text/plain": "  0%|          | 0/30 [00:00<?, ?it/s]",
      "application/vnd.jupyter.widget-view+json": {
       "version_major": 2,
       "version_minor": 0,
       "model_id": "0c08cddf60d741c5b3e8a7499b9fa6d0"
      }
     },
     "metadata": {},
     "output_type": "display_data"
    },
    {
     "name": "stdout",
     "output_type": "stream",
     "text": [
      "Generation 2,                 Best error: 20.2978572845459,                 Best R2 0.7568013668060303\n"
     ]
    }
   ],
   "source": [
    "best_chromosome = ga.fit(\n",
    "    data,\n",
    "    generations=3,\n",
    ")"
   ],
   "metadata": {
    "collapsed": false,
    "pycharm": {
     "name": "#%%\n"
    }
   }
  },
  {
   "cell_type": "code",
   "execution_count": 18,
   "outputs": [],
   "source": [
    "model = best_chromosome.decode(params)"
   ],
   "metadata": {
    "collapsed": false,
    "pycharm": {
     "name": "#%%\n"
    }
   }
  },
  {
   "cell_type": "code",
   "execution_count": 19,
   "outputs": [],
   "source": [
    "df = ga.results_df()"
   ],
   "metadata": {
    "collapsed": false,
    "pycharm": {
     "name": "#%%\n"
    }
   }
  },
  {
   "cell_type": "code",
   "execution_count": 20,
   "outputs": [
    {
     "data": {
      "text/plain": "                                   learnt_parameters  \\\n0  {'fc_0': {'hidden_neurons': 64, 'activation': ...   \n1  {'fc_0': {'hidden_neurons': 2048, 'activation'...   \n2  {'fc_0': {'hidden_neurons': 512, 'activation':...   \n3  {'fc_0': {'hidden_neurons': 2048, 'activation'...   \n4  {'fc_0': {'hidden_neurons': 64, 'activation': ...   \n\n                                   static_parameters       loss    metric  \\\n0  {'input_shape': (13,), 'regression_target': 1,...  23.340296  0.725512   \n1  {'input_shape': (13,), 'regression_target': 1,...  25.635225  0.693927   \n2  {'input_shape': (13,), 'regression_target': 1,...  23.717901  0.716334   \n3  {'input_shape': (13,), 'regression_target': 1,...  29.516582  0.645864   \n4  {'input_shape': (13,), 'regression_target': 1,...  25.163296  0.700056   \n\n   generation  \n0           0  \n1           0  \n2           0  \n3           0  \n4           0  ",
      "text/html": "<div>\n<style scoped>\n    .dataframe tbody tr th:only-of-type {\n        vertical-align: middle;\n    }\n\n    .dataframe tbody tr th {\n        vertical-align: top;\n    }\n\n    .dataframe thead th {\n        text-align: right;\n    }\n</style>\n<table border=\"1\" class=\"dataframe\">\n  <thead>\n    <tr style=\"text-align: right;\">\n      <th></th>\n      <th>learnt_parameters</th>\n      <th>static_parameters</th>\n      <th>loss</th>\n      <th>metric</th>\n      <th>generation</th>\n    </tr>\n  </thead>\n  <tbody>\n    <tr>\n      <th>0</th>\n      <td>{'fc_0': {'hidden_neurons': 64, 'activation': ...</td>\n      <td>{'input_shape': (13,), 'regression_target': 1,...</td>\n      <td>23.340296</td>\n      <td>0.725512</td>\n      <td>0</td>\n    </tr>\n    <tr>\n      <th>1</th>\n      <td>{'fc_0': {'hidden_neurons': 2048, 'activation'...</td>\n      <td>{'input_shape': (13,), 'regression_target': 1,...</td>\n      <td>25.635225</td>\n      <td>0.693927</td>\n      <td>0</td>\n    </tr>\n    <tr>\n      <th>2</th>\n      <td>{'fc_0': {'hidden_neurons': 512, 'activation':...</td>\n      <td>{'input_shape': (13,), 'regression_target': 1,...</td>\n      <td>23.717901</td>\n      <td>0.716334</td>\n      <td>0</td>\n    </tr>\n    <tr>\n      <th>3</th>\n      <td>{'fc_0': {'hidden_neurons': 2048, 'activation'...</td>\n      <td>{'input_shape': (13,), 'regression_target': 1,...</td>\n      <td>29.516582</td>\n      <td>0.645864</td>\n      <td>0</td>\n    </tr>\n    <tr>\n      <th>4</th>\n      <td>{'fc_0': {'hidden_neurons': 64, 'activation': ...</td>\n      <td>{'input_shape': (13,), 'regression_target': 1,...</td>\n      <td>25.163296</td>\n      <td>0.700056</td>\n      <td>0</td>\n    </tr>\n  </tbody>\n</table>\n</div>"
     },
     "execution_count": 20,
     "metadata": {},
     "output_type": "execute_result"
    }
   ],
   "source": [
    "df.head()"
   ],
   "metadata": {
    "collapsed": false,
    "pycharm": {
     "name": "#%%\n"
    }
   }
  },
  {
   "cell_type": "code",
   "execution_count": 21,
   "outputs": [],
   "source": [
    "best_chromosome_row = df[df.loss == df.loss.min()]"
   ],
   "metadata": {
    "collapsed": false,
    "pycharm": {
     "name": "#%%\n"
    }
   }
  },
  {
   "cell_type": "code",
   "execution_count": 31,
   "outputs": [
    {
     "data": {
      "text/plain": "{71: {'fc_0': {'hidden_neurons': 128,\n   'activation': 'relu',\n   'dropout': 0.3,\n   'l1': 1e-05,\n   'l2': 1e-05},\n  'fc_1': {'hidden_neurons': 128,\n   'activation': 'relu',\n   'dropout': 0.5,\n   'l1': 1e-05,\n   'l2': 1e-05},\n  'fc_2': {'hidden_neurons': 64,\n   'activation': 'relu',\n   'dropout': 0.2,\n   'l1': 1e-05,\n   'l2': 1e-05},\n  'batch_size_3': {'batch_size': 64},\n  'optimizer_4': {'optimizer': 'adam'},\n  'learning_rate_5': {'learning_rate': 1e-05}}}"
     },
     "execution_count": 31,
     "metadata": {},
     "output_type": "execute_result"
    }
   ],
   "source": [
    "dict(best_chromosome_row.learnt_parameters)"
   ],
   "metadata": {
    "collapsed": false,
    "pycharm": {
     "name": "#%%\n"
    }
   }
  },
  {
   "cell_type": "code",
   "execution_count": 33,
   "outputs": [],
   "source": [
    "elite_models = ga.elite_models"
   ],
   "metadata": {
    "collapsed": false,
    "pycharm": {
     "name": "#%%\n"
    }
   }
  },
  {
   "cell_type": "code",
   "execution_count": 34,
   "outputs": [
    {
     "data": {
      "text/plain": "[<keras.engine.functional.Functional at 0x2a194c8b0>,\n <keras.engine.functional.Functional at 0x2b34b4dc0>]"
     },
     "execution_count": 34,
     "metadata": {},
     "output_type": "execute_result"
    }
   ],
   "source": [
    "elite_models"
   ],
   "metadata": {
    "collapsed": false,
    "pycharm": {
     "name": "#%%\n"
    }
   }
  },
  {
   "cell_type": "code",
   "execution_count": null,
   "outputs": [],
   "source": [],
   "metadata": {
    "collapsed": false,
    "pycharm": {
     "name": "#%%\n"
    }
   }
  }
 ],
 "metadata": {
  "kernelspec": {
   "display_name": "Python 3",
   "language": "python",
   "name": "python3"
  },
  "language_info": {
   "codemirror_mode": {
    "name": "ipython",
    "version": 2
   },
   "file_extension": ".py",
   "mimetype": "text/x-python",
   "name": "python",
   "nbconvert_exporter": "python",
   "pygments_lexer": "ipython2",
   "version": "2.7.6"
  }
 },
 "nbformat": 4,
 "nbformat_minor": 0
}